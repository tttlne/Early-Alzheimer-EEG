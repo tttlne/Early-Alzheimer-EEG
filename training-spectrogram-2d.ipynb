{
 "cells": [
  {
   "cell_type": "code",
   "execution_count": 1,
   "id": "2addefee",
   "metadata": {
    "_cell_guid": "b1076dfc-b9ad-4769-8c92-a6c4dae69d19",
    "_uuid": "8f2839f25d086af736a60e9eeb907d3b93b6e0e5",
    "execution": {
     "iopub.execute_input": "2025-06-03T14:48:15.071757Z",
     "iopub.status.busy": "2025-06-03T14:48:15.071562Z",
     "iopub.status.idle": "2025-06-03T14:48:25.147364Z",
     "shell.execute_reply": "2025-06-03T14:48:25.146792Z"
    },
    "papermill": {
     "duration": 10.080581,
     "end_time": "2025-06-03T14:48:25.148734",
     "exception": false,
     "start_time": "2025-06-03T14:48:15.068153",
     "status": "completed"
    },
    "tags": []
   },
   "outputs": [],
   "source": [
    "import os\n",
    "from PIL import Image\n",
    "import torch\n",
    "import torch.nn as nn\n",
    "from torchvision import datasets, models, transforms\n",
    "from torch.utils.data import DataLoader, Subset\n",
    "from sklearn.model_selection import StratifiedKFold\n",
    "import numpy as np\n"
   ]
  },
  {
   "cell_type": "code",
   "execution_count": 2,
   "id": "57a9ca88",
   "metadata": {
    "execution": {
     "iopub.execute_input": "2025-06-03T14:48:25.154534Z",
     "iopub.status.busy": "2025-06-03T14:48:25.154209Z",
     "iopub.status.idle": "2025-06-03T14:48:25.159346Z",
     "shell.execute_reply": "2025-06-03T14:48:25.158784Z"
    },
    "papermill": {
     "duration": 0.009006,
     "end_time": "2025-06-03T14:48:25.160448",
     "exception": false,
     "start_time": "2025-06-03T14:48:25.151442",
     "status": "completed"
    },
    "tags": []
   },
   "outputs": [],
   "source": [
    "import os\n",
    "from PIL import Image\n",
    "from torchvision import transforms\n",
    "from torch.utils.data import Dataset\n",
    "\n",
    "class EEGDataset(Dataset):\n",
    "    def __init__(self, image_paths, labels, transform=None):\n",
    "        self.image_paths = image_paths\n",
    "        self.labels = labels\n",
    "        self.transform = transform\n",
    "    \n",
    "    def __len__(self):\n",
    "        return len(self.image_paths)\n",
    "\n",
    "    def __getitem__(self, idx):\n",
    "        img = Image.open(self.image_paths[idx]).convert(\"RGB\")\n",
    "        label = self.labels[idx]\n",
    "        if self.transform:\n",
    "            img = self.transform(img)\n",
    "        return img, label\n"
   ]
  },
  {
   "cell_type": "code",
   "execution_count": 3,
   "id": "1244c494",
   "metadata": {
    "execution": {
     "iopub.execute_input": "2025-06-03T14:48:25.165497Z",
     "iopub.status.busy": "2025-06-03T14:48:25.165264Z",
     "iopub.status.idle": "2025-06-03T14:48:25.170454Z",
     "shell.execute_reply": "2025-06-03T14:48:25.169951Z"
    },
    "papermill": {
     "duration": 0.008745,
     "end_time": "2025-06-03T14:48:25.171378",
     "exception": false,
     "start_time": "2025-06-03T14:48:25.162633",
     "status": "completed"
    },
    "tags": []
   },
   "outputs": [],
   "source": [
    "import re\n",
    "from collections import defaultdict\n",
    "\n",
    "def get_patient_id(filename):\n",
    "    match = re.search(r'patient_(\\d+)_', filename)\n",
    "    return int(match.group(1)) if match else -1\n",
    "\n",
    "def load_data_by_patient_nested(dataset_root):\n",
    "    patient_to_images = defaultdict(list)\n",
    "    patient_labels = {}\n",
    "\n",
    "    # Iterate through top-level folders (e.g., NC, MCI)\n",
    "    for main_folder in os.listdir(dataset_root):\n",
    "        main_path = os.path.join(dataset_root, main_folder)\n",
    "        if not os.path.isdir(main_path):\n",
    "            continue\n",
    "\n",
    "        # Assign label based on folder name (1 for MCI, 0 for NC)\n",
    "        label = 1 if main_folder == 'MCI' else 0\n",
    "\n",
    "        # Iterate through files in the folder\n",
    "        for fname in os.listdir(main_path):\n",
    "            fpath = os.path.join(main_path, fname)\n",
    "            if os.path.isfile(fpath):\n",
    "                match = re.search(r'patient_(\\d+)_', fname)\n",
    "                if match:\n",
    "                    pid = int(match.group(1))\n",
    "                    patient_to_images[pid].append(fpath)\n",
    "                    patient_labels[pid] = label\n",
    "\n",
    "    return patient_to_images, patient_labels\n"
   ]
  },
  {
   "cell_type": "code",
   "execution_count": 4,
   "id": "f4da2e43",
   "metadata": {
    "execution": {
     "iopub.execute_input": "2025-06-03T14:48:25.176685Z",
     "iopub.status.busy": "2025-06-03T14:48:25.176166Z",
     "iopub.status.idle": "2025-06-03T14:48:25.184730Z",
     "shell.execute_reply": "2025-06-03T14:48:25.184240Z"
    },
    "papermill": {
     "duration": 0.012293,
     "end_time": "2025-06-03T14:48:25.185802",
     "exception": false,
     "start_time": "2025-06-03T14:48:25.173509",
     "status": "completed"
    },
    "tags": []
   },
   "outputs": [],
   "source": [
    "from sklearn.model_selection import StratifiedKFold\n",
    "from torch.utils.data import DataLoader, Subset\n",
    "import numpy as np\n",
    "from sklearn.model_selection import train_test_split\n",
    "\n",
    "def create_folds(patient_to_images, patient_labels, transform, k=5):\n",
    "    patient_ids = list(patient_to_images.keys())\n",
    "    patient_y = [patient_labels[pid] for pid in patient_ids]\n",
    "\n",
    "    skf = StratifiedKFold(n_splits=k, shuffle=True, random_state=42)\n",
    "    folds = []\n",
    "\n",
    "    for train_idx, val_idx in skf.split(patient_ids, patient_y):\n",
    "        train_img_paths, train_labels = [], []\n",
    "        val_img_paths, val_labels = [], []\n",
    "\n",
    "        for i in train_idx:\n",
    "            pid = patient_ids[i]\n",
    "            train_img_paths += patient_to_images[pid]\n",
    "            train_labels += [patient_labels[pid]] * len(patient_to_images[pid])\n",
    "\n",
    "        for i in val_idx:\n",
    "            pid = patient_ids[i]\n",
    "            val_img_paths += patient_to_images[pid]\n",
    "            val_labels += [patient_labels[pid]] * len(patient_to_images[pid])\n",
    "\n",
    "        train_dataset = EEGDataset(train_img_paths, train_labels, transform)\n",
    "        val_dataset = EEGDataset(val_img_paths, val_labels, transform)\n",
    "\n",
    "        folds.append((train_dataset, val_dataset))\n",
    "\n",
    "    return folds\n",
    "\n",
    "def create_train_test_split_all_bands(patient_to_images, patient_labels, transform, test_size=0.2):\n",
    "    patient_ids = list(patient_to_images.keys())\n",
    "    patient_y = [patient_labels[pid] for pid in patient_ids]\n",
    "\n",
    "    # Keep all images without filtering for specific bands\n",
    "    all_images = patient_to_images\n",
    "\n",
    "    # Filter out patients with no images\n",
    "    filtered_pids = [pid for pid in patient_ids if len(all_images[pid]) > 0]\n",
    "    filtered_y = [patient_labels[pid] for pid in filtered_pids]\n",
    "\n",
    "    # Split patient_ids into train and test sets\n",
    "    train_idx, test_idx = train_test_split(\n",
    "        range(len(filtered_pids)),\n",
    "        test_size=test_size,\n",
    "        stratify=filtered_y,\n",
    "        random_state=42\n",
    "    )\n",
    "\n",
    "    # Create lists of image paths and labels for train set\n",
    "    train_img_paths, train_labels = [], []\n",
    "    for i in train_idx:\n",
    "        pid = filtered_pids[i]\n",
    "        train_img_paths += all_images[pid]\n",
    "        train_labels += [patient_labels[pid]] * len(all_images[pid])\n",
    "\n",
    "    # Create lists of image paths and labels for test set\n",
    "    test_img_paths, test_labels = [], []\n",
    "    for i in test_idx:\n",
    "        pid = filtered_pids[i]\n",
    "        test_img_paths += all_images[pid]\n",
    "        test_labels += [patient_labels[pid]] * len(all_images[pid])\n",
    "\n",
    "    # Create datasets for train and test\n",
    "    train_dataset = EEGDataset(train_img_paths, train_labels, transform)\n",
    "    test_dataset = EEGDataset(test_img_paths, test_labels, transform)\n",
    "\n",
    "    return train_dataset, test_dataset"
   ]
  },
  {
   "cell_type": "code",
   "execution_count": 5,
   "id": "6bf30065",
   "metadata": {
    "execution": {
     "iopub.execute_input": "2025-06-03T14:48:25.191031Z",
     "iopub.status.busy": "2025-06-03T14:48:25.190800Z",
     "iopub.status.idle": "2025-06-03T14:48:25.547187Z",
     "shell.execute_reply": "2025-06-03T14:48:25.546664Z"
    },
    "papermill": {
     "duration": 0.360488,
     "end_time": "2025-06-03T14:48:25.548437",
     "exception": false,
     "start_time": "2025-06-03T14:48:25.187949",
     "status": "completed"
    },
    "tags": []
   },
   "outputs": [],
   "source": [
    "from torchvision import models\n",
    "import torch.nn as nn\n",
    "import torch\n",
    "import torch\n",
    "import torch.nn as nn\n",
    "import torch.nn.functional as F\n",
    "from torchvision import models, transforms\n",
    "from torch.utils.data import DataLoader\n",
    "import numpy as np\n",
    "import cv2\n",
    "import matplotlib.pyplot as plt\n",
    "from PIL import Image\n",
    "\n",
    "def get_pretrained_model():\n",
    "    model = models.resnet18(pretrained=True)\n",
    "    model.fc = nn.Sequential(\n",
    "        nn.Dropout(0.3),\n",
    "        nn.Linear(model.fc.in_features, 2)\n",
    "    )\n",
    "    return model\n",
    "\n",
    "class CAMModel(nn.Module):\n",
    "    def __init__(self, model):\n",
    "        super(CAMModel, self).__init__()\n",
    "        self.resnet = model\n",
    "        self.features = nn.Sequential(*list(model.children())[:-2])  # Extract features up to last conv layer\n",
    "        self.avgpool = model.avgpool\n",
    "        self.fc = model.fc\n",
    "        self.last_conv_layer = list(model.children())[-3][-1]  # Last block of ResNet18 layer4\n",
    "\n",
    "    def forward(self, x):\n",
    "        x = self.features(x)\n",
    "        feature_maps = x\n",
    "        x = self.avgpool(x)\n",
    "        x = x.view(x.size(0), -1)\n",
    "        x = self.fc(x)\n",
    "        return x, feature_maps\n",
    "\n",
    "    def get_cam(self, feature_maps, weights, class_idx, input_size=(224, 224)):\n",
    "        batch_size, channels, h, w = feature_maps.size()\n",
    "        cam = weights[class_idx].unsqueeze(0) @ feature_maps.view(batch_size, channels, -1)\n",
    "        cam = cam.view(batch_size, h, w)\n",
    "        cam = cam - cam.min()\n",
    "        cam = cam / cam.max()\n",
    "        cam = F.interpolate(cam.unsqueeze(0), size=input_size, mode='bilinear', align_corners=False)\n",
    "        return cam.squeeze().cpu().numpy()\n",
    "\n",
    "def visualize_cam(image, cam, save_path, alpha=0.4):\n",
    "    image = image.permute(1, 2, 0).cpu().numpy()\n",
    "    image = (image * 0.5 + 0.5) * 255  # Denormalize\n",
    "    image = image.astype(np.uint8)\n",
    "    \n",
    "    cam = cv2.resize(cam, (image.shape[1], image.shape[0]))\n",
    "    heatmap = cv2.applyColorMap(np.uint8(255 * cam), cv2.COLORMAP_JET)\n",
    "    heatmap = np.float32(heatmap) / 255\n",
    "    superimposed_img = heatmap * alpha + image / 255\n",
    "    superimposed_img = superimposed_img / np.max(superimposed_img)\n",
    "    \n",
    "    plt.figure(figsize=(8, 8))\n",
    "    plt.imshow(superimposed_img)\n",
    "    plt.axis('off')\n",
    "    plt.savefig(save_path, bbox_inches='tight')\n",
    "    plt.close()\n",
    "\n",
    "def train_model(model, train_loader, val_loader, device, cam_output_dir=\"cam_outputs\"):\n",
    "    import os\n",
    "    os.makedirs(cam_output_dir, exist_ok=True)\n",
    "    \n",
    "    cam_model = CAMModel(model).to(device)\n",
    "    optimizer = torch.optim.Adam(cam_model.parameters(), lr=1e-4, weight_decay=1e-5)\n",
    "    criterion = nn.CrossEntropyLoss()\n",
    "    best_val_acc = 0\n",
    "\n",
    "    # Get weights of the final FC layer for CAM\n",
    "    fc_weights = cam_model.fc[1].weight.data  # Shape: [2, 512]\n",
    "\n",
    "    for epoch in range(30):\n",
    "        cam_model.train()\n",
    "        total, correct = 0, 0\n",
    "        for X, y in train_loader:\n",
    "            X, y = X.to(device), y.to(device)\n",
    "            optimizer.zero_grad()\n",
    "            out, _ = cam_model(X)\n",
    "            loss = criterion(out, y)\n",
    "            loss.backward()\n",
    "            optimizer.step()\n",
    "            correct += (out.argmax(1) == y).sum().item()\n",
    "            total += y.size(0)\n",
    "\n",
    "        val_acc = evaluate(cam_model, val_loader, device, cam_output_dir, fc_weights,epoch)\n",
    "        print(f\"Epoch {epoch+1} | Train Acc: {correct/total:.4f} | Val Acc: {val_acc:.4f}\")\n",
    "\n",
    "        if val_acc > best_val_acc:\n",
    "            best_val_acc = val_acc\n",
    "            torch.save(cam_model.resnet.state_dict(), \"best_model_fold.pth\")\n",
    "    return cam_model\n",
    "def evaluate(model, loader, device, cam_output_dir, fc_weights, epoch):\n",
    "    model.eval()\n",
    "    correct, total = 0, 0\n",
    "    with torch.no_grad():\n",
    "        for batch_idx, (X, y) in enumerate(loader):\n",
    "            X, y = X.to(device), y.to(device)\n",
    "            out, feature_maps = model(X)\n",
    "            pred = out.argmax(1)\n",
    "            correct += (pred == y).sum().item()\n",
    "            total += y.size(0)\n",
    "\n",
    "            # Generate CAM for first image in batch\n",
    "            if batch_idx == 0:  # Only for first batch to avoid too many images\n",
    "                for i in range(min(3, X.size(0))):  # Visualize up to 3 images\n",
    "                    cam = model.get_cam(feature_maps[i:i+1], fc_weights, pred[i].item())\n",
    "                    visualize_cam(X[i], cam, f\"{cam_output_dir}/cam_epoch_{epoch+1}_img_{i}.png\")\n",
    "\n",
    "    return correct / total"
   ]
  },
  {
   "cell_type": "code",
   "execution_count": 6,
   "id": "ebbd58db",
   "metadata": {
    "execution": {
     "iopub.execute_input": "2025-06-03T14:48:25.553802Z",
     "iopub.status.busy": "2025-06-03T14:48:25.553324Z",
     "iopub.status.idle": "2025-06-03T15:12:50.046765Z",
     "shell.execute_reply": "2025-06-03T15:12:50.046051Z"
    },
    "papermill": {
     "duration": 1464.500676,
     "end_time": "2025-06-03T15:12:50.051387",
     "exception": false,
     "start_time": "2025-06-03T14:48:25.550711",
     "status": "completed"
    },
    "tags": []
   },
   "outputs": [
    {
     "name": "stderr",
     "output_type": "stream",
     "text": [
      "/usr/local/lib/python3.11/dist-packages/torchvision/models/_utils.py:208: UserWarning: The parameter 'pretrained' is deprecated since 0.13 and may be removed in the future, please use 'weights' instead.\n",
      "  warnings.warn(\n",
      "/usr/local/lib/python3.11/dist-packages/torchvision/models/_utils.py:223: UserWarning: Arguments other than a weight enum or `None` for 'weights' are deprecated since 0.13 and may be removed in the future. The current behavior is equivalent to passing `weights=ResNet18_Weights.IMAGENET1K_V1`. You can also use `weights=ResNet18_Weights.DEFAULT` to get the most up-to-date weights.\n",
      "  warnings.warn(msg)\n",
      "Downloading: \"https://download.pytorch.org/models/resnet18-f37072fd.pth\" to /root/.cache/torch/hub/checkpoints/resnet18-f37072fd.pth\n",
      "100%|██████████| 44.7M/44.7M [00:00<00:00, 178MB/s]\n"
     ]
    },
    {
     "name": "stdout",
     "output_type": "stream",
     "text": [
      "Epoch 1 | Train Acc: 0.5759 | Val Acc: 0.5686\n",
      "Epoch 2 | Train Acc: 0.6073 | Val Acc: 0.5244\n",
      "Epoch 3 | Train Acc: 0.6543 | Val Acc: 0.5679\n",
      "Epoch 4 | Train Acc: 0.7075 | Val Acc: 0.5551\n",
      "Epoch 5 | Train Acc: 0.7622 | Val Acc: 0.5474\n",
      "Epoch 6 | Train Acc: 0.8118 | Val Acc: 0.5449\n",
      "Epoch 7 | Train Acc: 0.8660 | Val Acc: 0.5026\n",
      "Epoch 8 | Train Acc: 0.9007 | Val Acc: 0.4833\n",
      "Epoch 9 | Train Acc: 0.9187 | Val Acc: 0.5135\n",
      "Epoch 10 | Train Acc: 0.9431 | Val Acc: 0.5205\n",
      "Epoch 11 | Train Acc: 0.9502 | Val Acc: 0.5321\n",
      "Epoch 12 | Train Acc: 0.9564 | Val Acc: 0.5237\n",
      "Epoch 13 | Train Acc: 0.9635 | Val Acc: 0.5173\n",
      "Epoch 14 | Train Acc: 0.9576 | Val Acc: 0.5308\n",
      "Epoch 15 | Train Acc: 0.9655 | Val Acc: 0.5538\n",
      "Epoch 16 | Train Acc: 0.9769 | Val Acc: 0.5173\n",
      "Epoch 17 | Train Acc: 0.9806 | Val Acc: 0.5474\n",
      "Epoch 18 | Train Acc: 0.9714 | Val Acc: 0.5288\n",
      "Epoch 19 | Train Acc: 0.9595 | Val Acc: 0.5071\n",
      "Epoch 20 | Train Acc: 0.9807 | Val Acc: 0.5205\n",
      "Epoch 21 | Train Acc: 0.9832 | Val Acc: 0.5391\n",
      "Epoch 22 | Train Acc: 0.9778 | Val Acc: 0.5333\n",
      "Epoch 23 | Train Acc: 0.9821 | Val Acc: 0.5090\n",
      "Epoch 24 | Train Acc: 0.9809 | Val Acc: 0.5212\n",
      "Epoch 25 | Train Acc: 0.9835 | Val Acc: 0.5167\n",
      "Epoch 26 | Train Acc: 0.9821 | Val Acc: 0.5359\n",
      "Epoch 27 | Train Acc: 0.9811 | Val Acc: 0.5224\n",
      "Epoch 28 | Train Acc: 0.9861 | Val Acc: 0.5282\n",
      "Epoch 29 | Train Acc: 0.9894 | Val Acc: 0.5186\n",
      "Epoch 30 | Train Acc: 0.9854 | Val Acc: 0.5391\n"
     ]
    }
   ],
   "source": [
    "dataset_root = '/kaggle/input/newdata/newdata'\n",
    "patient_to_images, patient_labels = load_data_by_patient_nested(dataset_root)\n",
    "\n",
    "transform = transforms.Compose([\n",
    "    transforms.Resize((224, 224)),\n",
    "    transforms.ToTensor(),\n",
    "    transforms.Normalize([0.5], [0.5])\n",
    "])\n",
    "\n",
    "train_dataset, val_dataset = create_train_test_split_all_bands(patient_to_images, patient_labels, transform)\n",
    "\n",
    "device = torch.device(\"cuda\" if torch.cuda.is_available() else \"cpu\")\n",
    "\n",
    "train_loader = DataLoader(train_dataset, batch_size=32, shuffle=True)\n",
    "val_loader = DataLoader(val_dataset, batch_size=32, shuffle=False)\n",
    "\n",
    "model = get_pretrained_model()\n",
    "model = train_model(model, train_loader, val_loader, device)"
   ]
  },
  {
   "cell_type": "code",
   "execution_count": 7,
   "id": "6559328e",
   "metadata": {
    "execution": {
     "iopub.execute_input": "2025-06-03T15:12:50.059453Z",
     "iopub.status.busy": "2025-06-03T15:12:50.058976Z",
     "iopub.status.idle": "2025-06-03T15:12:50.064053Z",
     "shell.execute_reply": "2025-06-03T15:12:50.063487Z"
    },
    "papermill": {
     "duration": 0.010066,
     "end_time": "2025-06-03T15:12:50.064991",
     "exception": false,
     "start_time": "2025-06-03T15:12:50.054925",
     "status": "completed"
    },
    "tags": []
   },
   "outputs": [],
   "source": [
    "import torch.nn.functional as F\n",
    "\n",
    "def get_predictions(model, test_dataset, batch_size=32):\n",
    "    test_loader = DataLoader(test_dataset, batch_size=batch_size, shuffle=False)\n",
    "    model.eval()\n",
    "    all_preds = []\n",
    "    all_labels = []\n",
    "    \n",
    "    with torch.no_grad():\n",
    "        for images, labels in test_loader:\n",
    "            images = images.to(device)\n",
    "            labels = labels.to(device)\n",
    "            outputs,f = model(images)  # Đầu ra là logits\n",
    "            pred = outputs.argmax(1)  # Lấy xác suất lớp dương (1) cho bài toán nhị phân\n",
    "            all_preds.extend(pred.cpu().numpy())\n",
    "            all_labels.extend(labels.cpu().numpy())\n",
    "    \n",
    "    return np.array(all_labels), np.array(all_preds)"
   ]
  },
  {
   "cell_type": "code",
   "execution_count": 8,
   "id": "b322a537",
   "metadata": {
    "execution": {
     "iopub.execute_input": "2025-06-03T15:12:50.072611Z",
     "iopub.status.busy": "2025-06-03T15:12:50.072175Z",
     "iopub.status.idle": "2025-06-03T15:13:00.036933Z",
     "shell.execute_reply": "2025-06-03T15:13:00.036254Z"
    },
    "papermill": {
     "duration": 9.969873,
     "end_time": "2025-06-03T15:13:00.038224",
     "exception": false,
     "start_time": "2025-06-03T15:12:50.068351",
     "status": "completed"
    },
    "tags": []
   },
   "outputs": [
    {
     "data": {
      "image/png": "[encoded data removed]",
      "text/plain": [
       "<Figure size 640x480 with 1 Axes>"
      ]
     },
     "metadata": {},
     "output_type": "display_data"
    },
    {
     "data": {
      "image/png": "[encoded data removed]",
      "text/plain": [
       "<Figure size 640x480 with 2 Axes>"
      ]
     },
     "metadata": {},
     "output_type": "display_data"
    },
    {
     "name": "stdout",
     "output_type": "stream",
     "text": [
      "Sensitivity (Recall): 0.53\n",
      "Specificity: 0.54\n",
      "Precision: 0.50\n",
      "F1 Score: 0.52\n",
      "AUC: 0.54\n"
     ]
    }
   ],
   "source": [
    "from sklearn.metrics import roc_curve, auc, confusion_matrix\n",
    "import matplotlib.pyplot as plt\n",
    "import seaborn as sns\n",
    "import numpy as np\n",
    "\n",
    "# Lấy dự đoán xác suất và nhãn thực\n",
    "y_true, y_pred_proba = get_predictions(model, val_dataset)\n",
    "y_pred = (y_pred_proba > 0.5).astype(int)\n",
    "\n",
    "# Tính confusion matrix\n",
    "cm = confusion_matrix(y_true, y_pred)\n",
    "tn, fp, fn, tp = cm.ravel()\n",
    "\n",
    "# Tính các chỉ số đánh giá\n",
    "sensitivity = tp / (tp + fn) if (tp + fn) > 0 else 0  # Recall\n",
    "specificity = tn / (tn + fp) if (tn + fp) > 0 else 0\n",
    "precision = tp / (tp + fp) if (tp + fp) > 0 else 0\n",
    "f1_score = 2 * (precision * sensitivity) / (precision + sensitivity) if (precision + sensitivity) > 0 else 0\n",
    "\n",
    "# ROC và AUC\n",
    "fpr, tpr, _ = roc_curve(y_true, y_pred_proba)\n",
    "roc_auc = auc(fpr, tpr)\n",
    "\n",
    "# Vẽ ROC curve\n",
    "plt.figure()\n",
    "plt.plot(fpr, tpr, color='darkorange', lw=2, label=f'ROC curve (AUC = {roc_auc:.2f})')\n",
    "plt.plot([0, 1], [0, 1], color='navy', lw=2, linestyle='--')\n",
    "plt.xlim([0.0, 1.0])\n",
    "plt.ylim([0.0, 1.05])\n",
    "plt.xlabel('False Positive Rate')\n",
    "plt.ylabel('True Positive Rate')\n",
    "plt.title('Receiver Operating Characteristic (ROC) Curve')\n",
    "plt.legend(loc=\"lower right\")\n",
    "plt.grid(True)\n",
    "plt.savefig('roc2d.png', bbox_inches='tight')\n",
    "plt.show()\n",
    "\n",
    "# Vẽ Confusion Matrix\n",
    "plt.figure()\n",
    "sns.heatmap(cm, annot=True, fmt='d', cmap='Blues', \n",
    "            xticklabels=['Predicted 0', 'Predicted 1'],\n",
    "            yticklabels=['Actual 0', 'Actual 1'])\n",
    "plt.xlabel('Predicted Label')\n",
    "plt.ylabel('True Label')\n",
    "plt.title('Confusion Matrix')\n",
    "plt.savefig('confusion_matrix.png', bbox_inches='tight')\n",
    "plt.show()\n",
    "\n",
    "# In kết quả\n",
    "print(f\"Sensitivity (Recall): {sensitivity:.2f}\")\n",
    "print(f\"Specificity: {specificity:.2f}\")\n",
    "print(f\"Precision: {precision:.2f}\")\n",
    "print(f\"F1 Score: {f1_score:.2f}\")\n",
    "print(f\"AUC: {roc_auc:.2f}\")\n"
   ]
  },
  {
   "cell_type": "code",
   "execution_count": null,
   "id": "adb173d4",
   "metadata": {
    "papermill": {
     "duration": 0.004579,
     "end_time": "2025-06-03T15:13:00.048140",
     "exception": false,
     "start_time": "2025-06-03T15:13:00.043561",
     "status": "completed"
    },
    "tags": []
   },
   "outputs": [],
   "source": []
  },
  {
   "cell_type": "code",
   "execution_count": 9,
   "id": "40dadeab",
   "metadata": {
    "execution": {
     "iopub.execute_input": "2025-06-03T15:13:00.058676Z",
     "iopub.status.busy": "2025-06-03T15:13:00.058341Z",
     "iopub.status.idle": "2025-06-03T15:13:08.111563Z",
     "shell.execute_reply": "2025-06-03T15:13:08.110821Z"
    },
    "papermill": {
     "duration": 8.060008,
     "end_time": "2025-06-03T15:13:08.112891",
     "exception": false,
     "start_time": "2025-06-03T15:13:00.052883",
     "status": "completed"
    },
    "tags": []
   },
   "outputs": [
    {
     "data": {
      "text/plain": [
       "0.5391025641025641"
      ]
     },
     "execution_count": 9,
     "metadata": {},
     "output_type": "execute_result"
    }
   ],
   "source": [
    "def visualize_cam2(image, cam,i, alpha=0.4):\n",
    "    image = image.permute(1, 2, 0).cpu().numpy()\n",
    "    image = (image * 0.5 + 0.5) * 255  # Denormalize\n",
    "    image = image.astype(np.uint8)\n",
    "    \n",
    "    cam = cv2.resize(cam, (image.shape[1], image.shape[0]))\n",
    "    heatmap = cv2.applyColorMap(np.uint8(255 * cam), cv2.COLORMAP_JET)\n",
    "    heatmap = np.float32(heatmap) / 255\n",
    "    superimposed_img = heatmap * alpha + image / 255\n",
    "    superimposed_img = superimposed_img / np.max(superimposed_img)\n",
    "    \n",
    "    plt.figure(figsize=(6, 6))\n",
    "    plt.subplot(1,2,1)\n",
    "    plt.imshow(superimposed_img), plt.axis('off'),plt.title(\"CAM-image\")\n",
    "    plt.subplot(1,2,2)\n",
    "    plt.imshow(image), plt.axis('off'),plt.title('Original image')\n",
    "    # plt.show()\n",
    "    plt.savefig(f'cam2{i}.png', bbox_inches='tight')\n",
    "    plt.close()\n",
    "    \n",
    "def draw_cam_evaluate(model, loader, device='cuda'):\n",
    "    fc_weights = model.fc[1].weight.data  \n",
    "    model.eval()\n",
    "    correct, total = 0, 0\n",
    "    with torch.no_grad():\n",
    "        for batch_idx, (X, y) in enumerate(loader):\n",
    "            X, y = X.to(device), y.to(device)\n",
    "            out, feature_maps = model(X)\n",
    "            pred = out.argmax(1)\n",
    "            correct += (pred == y).sum().item()\n",
    "            total += y.size(0)\n",
    "            if batch_idx == 0:  # Only for first batch to avoid too many images\n",
    "                for i in range(min(4, X.size(0))):  # Visualize up to 3 images\n",
    "                    cam = model.get_cam(feature_maps[i:i+1], fc_weights, pred[i].item())\n",
    "                    visualize_cam2(X[i], cam,i)\n",
    "\n",
    "    return correct / total\n",
    "draw_cam_evaluate(model,val_loader)"
   ]
  }
 ],
 "metadata": {
  "kaggle": {
   "accelerator": "nvidiaTeslaT4",
   "dataSources": [
    {
     "datasetId": 7438362,
     "sourceId": 11839187,
     "sourceType": "datasetVersion"
    },
    {
     "datasetId": 7523210,
     "sourceId": 11964256,
     "sourceType": "datasetVersion"
    }
   ],
   "dockerImageVersionId": 31041,
   "isGpuEnabled": true,
   "isInternetEnabled": true,
   "language": "python",
   "sourceType": "notebook"
  },
  "kernelspec": {
   "display_name": "Python 3",
   "language": "python",
   "name": "python3"
  },
  "language_info": {
   "codemirror_mode": {
    "name": "ipython",
    "version": 3
   },
   "file_extension": ".py",
   "mimetype": "text/x-python",
   "name": "python",
   "nbconvert_exporter": "python",
   "pygments_lexer": "ipython3",
   "version": "3.11.11"
  },
  "papermill": {
   "default_parameters": {},
   "duration": 1499.71813,
   "end_time": "2025-06-03T15:13:10.738659",
   "environment_variables": {},
   "exception": null,
   "input_path": "__notebook__.ipynb",
   "output_path": "__notebook__.ipynb",
   "parameters": {},
   "start_time": "2025-06-03T14:48:11.020529",
   "version": "2.6.0"
  }
 },
 "nbformat": 4,
 "nbformat_minor": 5
}
